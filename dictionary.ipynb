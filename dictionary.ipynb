{
 "cells": [
  {
   "cell_type": "code",
   "execution_count": 1,
   "metadata": {},
   "outputs": [],
   "source": [
    "report = {\n",
    "    'Ram':{\n",
    "        'English': 67,\n",
    "        'Hindi': 77,\n",
    "        'Maths': 66,\n",
    "        'Science': 47,\n",
    "        'Arts': 87,\n",
    "    },\n",
    "    'Rohan':{\n",
    "        'English': 67,\n",
    "        'Hindi': 77,\n",
    "        'Maths': 66,\n",
    "        'Science': 47,\n",
    "        'Arts': 87,\n",
    "    },\n",
    "    'Reena':{\n",
    "        'English': 67,\n",
    "        'Hindi': 77,\n",
    "        'Maths': 66,\n",
    "        'Science': 47,\n",
    "        'Arts': 87,\n",
    "    },\n",
    "    'Rohit':{\n",
    "        'English': 67,\n",
    "        'Hindi': 77,\n",
    "        'Maths': 66,\n",
    "        'Science': 47,\n",
    "        'Arts': 87,\n",
    "    },\n",
    "    'Rita':{\n",
    "        'English': 67,\n",
    "        'Hindi': 77,\n",
    "        'Maths': 66,\n",
    "        'Science': 47,\n",
    "        'Arts': 87,\n",
    "    },\n",
    "}"
   ]
  },
  {
   "cell_type": "code",
   "execution_count": 2,
   "metadata": {},
   "outputs": [
    {
     "data": {
      "text/plain": [
       "{'Ram': {'English': 67, 'Hindi': 77, 'Maths': 66, 'Science': 47, 'Arts': 87},\n",
       " 'Rohan': {'English': 67, 'Hindi': 77, 'Maths': 66, 'Science': 47, 'Arts': 87},\n",
       " 'Reena': {'English': 67, 'Hindi': 77, 'Maths': 66, 'Science': 47, 'Arts': 87},\n",
       " 'Rohit': {'English': 67, 'Hindi': 77, 'Maths': 66, 'Science': 47, 'Arts': 87},\n",
       " 'Rita': {'English': 67, 'Hindi': 77, 'Maths': 66, 'Science': 47, 'Arts': 87}}"
      ]
     },
     "execution_count": 2,
     "metadata": {},
     "output_type": "execute_result"
    }
   ],
   "source": [
    "report"
   ]
  },
  {
   "cell_type": "code",
   "execution_count": 3,
   "metadata": {},
   "outputs": [
    {
     "data": {
      "text/plain": [
       "77"
      ]
     },
     "execution_count": 3,
     "metadata": {},
     "output_type": "execute_result"
    }
   ],
   "source": [
    "report['Reena']['Hindi']\n"
   ]
  }
 ],
 "metadata": {
  "interpreter": {
   "hash": "b4dc0bc5f3fa17f6008eddb2fa77e8f6b05318d84f3e3cf003699ea63add3661"
  },
  "kernelspec": {
   "display_name": "Python 3.9.5 ('base')",
   "language": "python",
   "name": "python3"
  },
  "language_info": {
   "codemirror_mode": {
    "name": "ipython",
    "version": 3
   },
   "file_extension": ".py",
   "mimetype": "text/x-python",
   "name": "python",
   "nbconvert_exporter": "python",
   "pygments_lexer": "ipython3",
   "version": "3.9.5"
  },
  "orig_nbformat": 4
 },
 "nbformat": 4,
 "nbformat_minor": 2
}
