{
 "cells": [
  {
   "cell_type": "markdown",
   "metadata": {},
   "source": [
    "## Task\n",
    "### 1.Create a string and print it. "
   ]
  },
  {
   "cell_type": "code",
   "execution_count": 5,
   "metadata": {},
   "outputs": [
    {
     "name": "stdout",
     "output_type": "stream",
     "text": [
      "Shweta pandey\n"
     ]
    }
   ],
   "source": [
    "a=\"Shweta pandey\"\n",
    "print(a)"
   ]
  },
  {
   "cell_type": "markdown",
   "metadata": {},
   "source": [
    "### 2. Take a string input and print it's length."
   ]
  },
  {
   "cell_type": "code",
   "execution_count": 7,
   "metadata": {},
   "outputs": [
    {
     "name": "stdout",
     "output_type": "stream",
     "text": [
      "2\n"
     ]
    }
   ],
   "source": [
    "b=input(\"enter a string\")\n",
    "print(len(b))"
   ]
  },
  {
   "cell_type": "markdown",
   "metadata": {},
   "source": [
    "### 3. Print the last word of the string python is great using slices."
   ]
  },
  {
   "cell_type": "code",
   "execution_count": 8,
   "metadata": {},
   "outputs": [
    {
     "name": "stdout",
     "output_type": "stream",
     "text": [
      "great\n"
     ]
    }
   ],
   "source": [
    "st=\"python is great\"\n",
    "print(st[-5:])"
   ]
  },
  {
   "cell_type": "markdown",
   "metadata": {},
   "source": [
    "### 4.Print the each word in difference line of string python is everywhere. "
   ]
  },
  {
   "cell_type": "code",
   "execution_count": 9,
   "metadata": {},
   "outputs": [
    {
     "name": "stdout",
     "output_type": "stream",
     "text": [
      "python\n",
      "is\n",
      "everywhere\n"
     ]
    }
   ],
   "source": [
    "st='python is everywhere'\n",
    "for i in st.split():\n",
    "    print(i)"
   ]
  },
  {
   "cell_type": "markdown",
   "metadata": {},
   "source": [
    "### 5.Print the string Hello World! in reverse. "
   ]
  },
  {
   "cell_type": "code",
   "execution_count": 10,
   "metadata": {},
   "outputs": [
    {
     "name": "stdout",
     "output_type": "stream",
     "text": [
      "dlroW olleH\n"
     ]
    }
   ],
   "source": [
    "p=\"Hello World\"\n",
    "print(p[::-1])"
   ]
  },
  {
   "cell_type": "markdown",
   "metadata": {},
   "source": [
    "### 6.Convert the string How are you? in uppercase"
   ]
  },
  {
   "cell_type": "code",
   "execution_count": 11,
   "metadata": {},
   "outputs": [
    {
     "name": "stdout",
     "output_type": "stream",
     "text": [
      "HOW ARE YOU\n"
     ]
    }
   ],
   "source": [
    "st= \"How are you\"\n",
    "print(st.upper())"
   ]
  },
  {
   "cell_type": "markdown",
   "metadata": {},
   "source": [
    "### 7.Convert the sting How is it going? in lowercase"
   ]
  },
  {
   "cell_type": "code",
   "execution_count": 12,
   "metadata": {},
   "outputs": [
    {
     "name": "stdout",
     "output_type": "stream",
     "text": [
      "how is it going\n"
     ]
    }
   ],
   "source": [
    "st=\"How is it going\"\n",
    "print(st.lower())"
   ]
  },
  {
   "cell_type": "markdown",
   "metadata": {},
   "source": [
    "### 8.Join the following list by space( ) and print the result.\n",
    "words = ['python','is','easy','to','learn']"
   ]
  },
  {
   "cell_type": "code",
   "execution_count": 13,
   "metadata": {},
   "outputs": [
    {
     "name": "stdout",
     "output_type": "stream",
     "text": [
      "python is easy to learn "
     ]
    }
   ],
   "source": [
    "words = ['python','is','easy','to','learn']\n",
    "for i in words:\n",
    "    print(i,end=\" \")"
   ]
  },
  {
   "cell_type": "markdown",
   "metadata": {},
   "source": [
    "### 9.Print a multiple string using a single print."
   ]
  },
  {
   "cell_type": "code",
   "execution_count": 14,
   "metadata": {},
   "outputs": [
    {
     "name": "stdout",
     "output_type": "stream",
     "text": [
      "I am Shweta Pandey.As for as my currently pursing BCA at babu banarsi das university,faizabaad road,lucknow\n"
     ]
    }
   ],
   "source": [
    "st= 'I am Shweta Pandey.As for as my currently pursing BCA at babu banarsi das university,faizabaad road,lucknow' \n",
    "print(st)"
   ]
  },
  {
   "cell_type": "markdown",
   "metadata": {},
   "source": [
    "### 10.Print this string to move to newline '\\n' is used.(results should look exactly like the provide string)"
   ]
  },
  {
   "cell_type": "code",
   "execution_count": 15,
   "metadata": {},
   "outputs": [
    {
     "name": "stdout",
     "output_type": "stream",
     "text": [
      "to move to newline '\\n' is used\n"
     ]
    }
   ],
   "source": [
    "st= \"to move to newline '\\\\n' is used\"\n",
    "print(st) "
   ]
  },
  {
   "cell_type": "markdown",
   "metadata": {},
   "source": [
    "### 11.Print a variable with some text using a single print function, output should look like following.\n",
    "the variable is 15"
   ]
  },
  {
   "cell_type": "code",
   "execution_count": 16,
   "metadata": {},
   "outputs": [
    {
     "name": "stdout",
     "output_type": "stream",
     "text": [
      "the variable is 15\n"
     ]
    }
   ],
   "source": [
    "v = 'the variable is 15'\n",
    "print(v)"
   ]
  },
  {
   "cell_type": "markdown",
   "metadata": {},
   "source": [
    "### 12.Concatenate the following strings and print the result.\n",
    "S1 = 'python'\n",
    "S2 = 'is'\n",
    "S3 = 'great'"
   ]
  },
  {
   "cell_type": "code",
   "execution_count": 17,
   "metadata": {},
   "outputs": [
    {
     "name": "stdout",
     "output_type": "stream",
     "text": [
      "python is great\n"
     ]
    }
   ],
   "source": [
    "S1 = 'python'\n",
    "S2 = 'is'\n",
    "S3 = 'great'\n",
    "print(S1+ \" \" +S2+ \" \" +S3)"
   ]
  },
  {
   "cell_type": "markdown",
   "metadata": {},
   "source": [
    "### 13. Print # 20 items without using a loop."
   ]
  },
  {
   "cell_type": "code",
   "execution_count": 18,
   "metadata": {},
   "outputs": [
    {
     "name": "stdout",
     "output_type": "stream",
     "text": [
      "####################\n"
     ]
    }
   ],
   "source": [
    "x='#'\n",
    "print(x*20)"
   ]
  },
  {
   "cell_type": "markdown",
   "metadata": {},
   "source": [
    "### 14. Print numbers from 1 to 9, each on a seperate line, followed by a dot , output should look like the following-\n",
    "- 1-\n",
    "- 2-\n",
    "- 3-"
   ]
  },
  {
   "cell_type": "code",
   "execution_count": 19,
   "metadata": {},
   "outputs": [
    {
     "name": "stdout",
     "output_type": "stream",
     "text": [
      "1.\n",
      "2.\n",
      "3.\n",
      "4.\n",
      "5.\n",
      "6.\n",
      "7.\n",
      "8.\n",
      "9.\n"
     ]
    }
   ],
   "source": [
    "for k in range (1,10):\n",
    "    print(k,end=\".\")\n",
    "    print()"
   ]
  },
  {
   "cell_type": "markdown",
   "metadata": {},
   "source": [
    "### 15.Ask user to input a sentence and print each word on a diffrent line."
   ]
  },
  {
   "cell_type": "code",
   "execution_count": 20,
   "metadata": {},
   "outputs": [
    {
     "name": "stdout",
     "output_type": "stream",
     "text": [
      "i\n",
      "am\n",
      "shweta\n",
      "pandey\n"
     ]
    }
   ],
   "source": [
    "for i in input(\"enter a sentences\").split():print(i)"
   ]
  },
  {
   "cell_type": "markdown",
   "metadata": {},
   "source": [
    "### 16.Ask user to input a string and check if the string ends with'?'"
   ]
  },
  {
   "cell_type": "code",
   "execution_count": 21,
   "metadata": {},
   "outputs": [
    {
     "name": "stdout",
     "output_type": "stream",
     "text": [
      "sentences is endswih?\n"
     ]
    }
   ],
   "source": [
    "s= input(\"ENETER A STRINFG\")\n",
    "if s.endswith(\"?\"):\n",
    "    print(\"sentences is endswih?\")"
   ]
  },
  {
   "cell_type": "markdown",
   "metadata": {},
   "source": [
    "### 17. Ask user to input a string and print how many times e appeared in the string."
   ]
  },
  {
   "cell_type": "code",
   "execution_count": 22,
   "metadata": {},
   "outputs": [
    {
     "name": "stdout",
     "output_type": "stream",
     "text": [
      "4\n",
      "sentences is endswih?\n"
     ]
    }
   ],
   "source": [
    "print(s.count(\"e\"))\n",
    "print(s)"
   ]
  },
  {
   "cell_type": "markdown",
   "metadata": {},
   "source": [
    "### 18.Check if the user input is a number."
   ]
  },
  {
   "cell_type": "code",
   "execution_count": 25,
   "metadata": {},
   "outputs": [],
   "source": [
    "n = input(\"enter something\")\n",
    "if n.isnumeric():\n",
    "    print(\"entered data is number\")"
   ]
  },
  {
   "cell_type": "markdown",
   "metadata": {},
   "source": [
    "### 19.Resume the extra spaces in begining and in the end of the following string-text = 'this is not a good string'"
   ]
  },
  {
   "cell_type": "code",
   "execution_count": 24,
   "metadata": {},
   "outputs": [
    {
     "name": "stdout",
     "output_type": "stream",
     "text": [
      "this is not a good string\n"
     ]
    }
   ],
   "source": [
    "text='this is not a good string'\n",
    "text1=text.strip()\n",
    "print(text1)"
   ]
  },
  {
   "cell_type": "markdown",
   "metadata": {},
   "source": [
    "### 20.Ask user to input string, print found if any of the charcter is upper case. "
   ]
  },
  {
   "cell_type": "code",
   "execution_count": 26,
   "metadata": {},
   "outputs": [
    {
     "name": "stdout",
     "output_type": "stream",
     "text": [
      "found\n"
     ]
    }
   ],
   "source": [
    "for i in \"Shweta\":\n",
    "    if i.isupper():\n",
    "        print('found')"
   ]
  },
  {
   "cell_type": "markdown",
   "metadata": {},
   "source": [
    "### 21.Extract names from the following string and store them in a list.\n",
    "names='Joe,David,Mark,Tom,Chris,Robert'"
   ]
  },
  {
   "cell_type": "code",
   "execution_count": 27,
   "metadata": {},
   "outputs": [
    {
     "name": "stdout",
     "output_type": "stream",
     "text": [
      "['Joe,David,Mark,Tom,Chris,Robert']\n"
     ]
    }
   ],
   "source": [
    "names='Joe,David,Mark,Tom,Chris,Robert'\n",
    "l=  names.split()\n",
    "print(l)"
   ]
  },
  {
   "cell_type": "markdown",
   "metadata": {},
   "source": [
    "### 22.In the following string add aye in the end of every word and print the results.\n",
    "text= 'this is some text'"
   ]
  },
  {
   "cell_type": "code",
   "execution_count": 28,
   "metadata": {},
   "outputs": [
    {
     "name": "stdout",
     "output_type": "stream",
     "text": [
      "thisaye\n",
      "isaye\n",
      "someaye\n",
      "textaye\n"
     ]
    }
   ],
   "source": [
    "text='this is some text'\n",
    "word=text.split()\n",
    "for i in word:\n",
    "    print(i+\"aye\")"
   ]
  },
  {
   "cell_type": "markdown",
   "metadata": {},
   "source": [
    "### 23.Ask user to enter a string and check if the string contains fyi"
   ]
  },
  {
   "cell_type": "code",
   "execution_count": 29,
   "metadata": {},
   "outputs": [],
   "source": [
    "st=input(\"enter a string\")\n",
    "if\"fyi\" in st:\n",
    "    print(\"found\")"
   ]
  },
  {
   "cell_type": "markdown",
   "metadata": {},
   "source": [
    "### 24.Remove all the special characters and numbers from the following string \n",
    "text= '%p34@y!t68h#&on404'"
   ]
  },
  {
   "cell_type": "code",
   "execution_count": 33,
   "metadata": {},
   "outputs": [
    {
     "name": "stdout",
     "output_type": "stream",
     "text": [
      "33t23hgdt4yu\n",
      "t2hgdt4yu\n",
      "t2hgdt4yu\n",
      "thgdt4yu\n",
      "thgdt4yu\n",
      "thgdtyu\n"
     ]
    }
   ],
   "source": [
    "text='~!@#$%^&*()__+)(*&%^633t23h#gdt4yu'\n",
    "juck='~!@#$%^&*()_+'\n",
    "for i in juck:\n",
    "    text=text.replace(i,'')\n",
    "for i in text:\n",
    "        if i.isnumeric():\n",
    "            text=text.replace(i,'')\n",
    "            print(text)"
   ]
  },
  {
   "cell_type": "markdown",
   "metadata": {},
   "source": [
    "### 25.Calculate the average word length of the following paragraph.\n",
    "this is a paragraph which is written just for the purpose of providing cintent to let the average word length"
   ]
  },
  {
   "cell_type": "code",
   "execution_count": 35,
   "metadata": {},
   "outputs": [
    {
     "name": "stdout",
     "output_type": "stream",
     "text": [
      "Average word length of the following paragraph 0.2\n",
      "Average word length of the following paragraph 0.3\n",
      "Average word length of the following paragraph 0.35\n",
      "Average word length of the following paragraph 0.8\n",
      "Average word length of the following paragraph 1.05\n",
      "Average word length of the following paragraph 1.15\n",
      "Average word length of the following paragraph 1.5\n",
      "Average word length of the following paragraph 1.7\n",
      "Average word length of the following paragraph 1.85\n",
      "Average word length of the following paragraph 2.0\n",
      "Average word length of the following paragraph 2.35\n",
      "Average word length of the following paragraph 2.45\n",
      "Average word length of the following paragraph 2.9\n",
      "Average word length of the following paragraph 3.25\n",
      "Average word length of the following paragraph 3.35\n",
      "Average word length of the following paragraph 3.5\n",
      "Average word length of the following paragraph 3.65\n",
      "Average word length of the following paragraph 4.0\n",
      "Average word length of the following paragraph 4.2\n",
      "Average word length of the following paragraph 4.5\n"
     ]
    }
   ],
   "source": [
    "text='this is a paragraph which is written just for the purpose of providing cintent to let the average word length'\n",
    "li=text.split()\n",
    "length=len(li)\n",
    "count=[]\n",
    "for i in li:\n",
    "    count.append(len(i))\n",
    "    print(\"Average word length of the following paragraph\",(sum(count)/length))"
   ]
  }
 ],
 "metadata": {
  "interpreter": {
   "hash": "b4dc0bc5f3fa17f6008eddb2fa77e8f6b05318d84f3e3cf003699ea63add3661"
  },
  "kernelspec": {
   "display_name": "Python 3.9.5 ('base')",
   "language": "python",
   "name": "python3"
  },
  "language_info": {
   "codemirror_mode": {
    "name": "ipython",
    "version": 3
   },
   "file_extension": ".py",
   "mimetype": "text/x-python",
   "name": "python",
   "nbconvert_exporter": "python",
   "pygments_lexer": "ipython3",
   "version": "3.9.5"
  },
  "orig_nbformat": 4
 },
 "nbformat": 4,
 "nbformat_minor": 2
}
