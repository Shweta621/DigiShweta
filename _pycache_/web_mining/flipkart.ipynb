{
 "cells": [
  {
   "cell_type": "code",
   "execution_count": 1,
   "metadata": {},
   "outputs": [
    {
     "name": "stdout",
     "output_type": "stream",
     "text": [
      "flipkart.com?page=1\n",
      "flipkart.com?page=2\n",
      "flipkart.com?page=3\n",
      "flipkart.com?page=4\n",
      "flipkart.com?page=5\n",
      "flipkart.com?page=6\n",
      "flipkart.com?page=7\n",
      "flipkart.com?page=8\n",
      "flipkart.com?page=9\n",
      "flipkart.com?page=10\n"
     ]
    }
   ],
   "source": [
    "for i in range(10):\n",
    "    print(f'flipkart.com?page={i+1}')"
   ]
  },
  {
   "cell_type": "code",
   "execution_count": 5,
   "metadata": {},
   "outputs": [
    {
     "name": "stdout",
     "output_type": "stream",
     "text": [
      "https://www.flipkart.com/search?q=bags&page=1\n"
     ]
    }
   ],
   "source": [
    "query = 'bags'\n",
    "page = 1\n",
    "url = f\"https://www.flipkart.com/search?q={query}&page={page}\"\n",
    "print(url)"
   ]
  }
 ],
 "metadata": {
  "interpreter": {
   "hash": "b4dc0bc5f3fa17f6008eddb2fa77e8f6b05318d84f3e3cf003699ea63add3661"
  },
  "kernelspec": {
   "display_name": "Python 3.9.5 ('base')",
   "language": "python",
   "name": "python3"
  },
  "language_info": {
   "codemirror_mode": {
    "name": "ipython",
    "version": 3
   },
   "file_extension": ".py",
   "mimetype": "text/x-python",
   "name": "python",
   "nbconvert_exporter": "python",
   "pygments_lexer": "ipython3",
   "version": "3.9.5"
  },
  "orig_nbformat": 4
 },
 "nbformat": 4,
 "nbformat_minor": 2
}
