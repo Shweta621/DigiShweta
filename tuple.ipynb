{
 "cells": [
  {
   "cell_type": "markdown",
   "metadata": {},
   "source": [
    "## Tuple \n",
    "- tuple is immutable (item cannot be changed during execution)\n",
    "- tuple is heterogenous(mixed data can be stored)\n",
    "- tuple can have duplicate values\n",
    "- tuple is index(item have indexes and can be slices)\n",
    "- tuple uses ( ) brekets with values inside \n",
    "\n",
    "## what to learn\n"
   ]
  },
  {
   "cell_type": "code",
   "execution_count": null,
   "metadata": {},
   "outputs": [],
   "source": []
  }
 ],
 "metadata": {
  "language_info": {
   "name": "python"
  },
  "orig_nbformat": 4
 },
 "nbformat": 4,
 "nbformat_minor": 2
}
