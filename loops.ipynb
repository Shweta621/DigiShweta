{
 "cells": [
  {
   "cell_type": "code",
   "execution_count": 3,
   "metadata": {},
   "outputs": [
    {
     "name": "stdout",
     "output_type": "stream",
     "text": [
      "P\n",
      "y\n",
      "t\n",
      "h\n",
      "o\n",
      "n\n"
     ]
    }
   ],
   "source": [
    "x = \"Python\"\n",
    "for i in x:\n",
    "    print(i)"
   ]
  },
  {
   "cell_type": "code",
   "execution_count": 9,
   "metadata": {},
   "outputs": [
    {
     "ename": "NameError",
     "evalue": "name 'movies' is not defined",
     "output_type": "error",
     "traceback": [
      "\u001b[1;31m---------------------------------------------------------------------------\u001b[0m",
      "\u001b[1;31mNameError\u001b[0m                                 Traceback (most recent call last)",
      "Input \u001b[1;32mIn [9]\u001b[0m, in \u001b[0;36m<module>\u001b[1;34m\u001b[0m\n\u001b[1;32m----> 1\u001b[0m \u001b[38;5;28;01mfor\u001b[39;00m i,name \u001b[38;5;129;01min\u001b[39;00m \u001b[38;5;28menumerate\u001b[39m(\u001b[43mmovies\u001b[49m):\n\u001b[0;32m      2\u001b[0m     \u001b[38;5;28mprint\u001b[39m(\u001b[38;5;124mf\u001b[39m\u001b[38;5;124m\"\u001b[39m\u001b[38;5;132;01m{\u001b[39;00mi\u001b[38;5;132;01m}\u001b[39;00m\u001b[38;5;124m - \u001b[39m\u001b[38;5;132;01m{\u001b[39;00mname\u001b[38;5;132;01m}\u001b[39;00m\u001b[38;5;124m\"\u001b[39m)\n",
      "\u001b[1;31mNameError\u001b[0m: name 'movies' is not defined"
     ]
    }
   ],
   "source": [
    "for i,name in enumerate(movies):\n",
    "    print(f\"{i} - {name}\")"
   ]
  },
  {
   "cell_type": "markdown",
   "metadata": {},
   "source": [
    "# range() function"
   ]
  },
  {
   "cell_type": "code",
   "execution_count": 5,
   "metadata": {},
   "outputs": [
    {
     "name": "stdout",
     "output_type": "stream",
     "text": [
      "10\n",
      "9\n",
      "8\n",
      "7\n",
      "6\n"
     ]
    }
   ],
   "source": [
    "for num in range (10,5,-1):\n",
    "    print (num)"
   ]
  },
  {
   "cell_type": "code",
   "execution_count": 8,
   "metadata": {},
   "outputs": [
    {
     "name": "stdout",
     "output_type": "stream",
     "text": [
      "\n",
      "Na\n",
      "NaNa\n",
      "NaNaNa\n",
      "NaNaNaNa\n",
      "NaNaNaNaNa\n",
      "NaNaNaNaNaNa\n",
      "NaNaNaNaNaNaNa\n",
      "NaNaNaNaNaNaNaNa\n",
      "NaNaNaNaNaNaNaNaNa\n"
     ]
    }
   ],
   "source": [
    "for i in range(10):\n",
    "    print(i * 'Na' )"
   ]
  },
  {
   "cell_type": "markdown",
   "metadata": {},
   "source": [
    " 1.  wap to print if numbers are even or odd from 1,100\n",
    "2. wap to print the sum of all even numbers from 2 to 101\n",
    "3. wap to print the average of all odd numbers from 1 to 100"
   ]
  },
  {
   "cell_type": "markdown",
   "metadata": {},
   "source": [
    "1. wap to print if number are even or odd from 1, 100"
   ]
  },
  {
   "cell_type": "code",
   "execution_count": 17,
   "metadata": {},
   "outputs": [
    {
     "name": "stdout",
     "output_type": "stream",
     "text": [
      "odd 1\n",
      "even 2\n",
      "odd 1\n",
      "even 4\n",
      "odd 1\n",
      "even 6\n",
      "odd 1\n",
      "even 8\n",
      "odd 1\n",
      "even 10\n",
      "odd 1\n",
      "even 12\n",
      "odd 1\n",
      "even 14\n",
      "odd 1\n",
      "even 16\n",
      "odd 1\n",
      "even 18\n",
      "odd 1\n",
      "even 20\n",
      "odd 1\n",
      "even 22\n",
      "odd 1\n",
      "even 24\n",
      "odd 1\n",
      "even 26\n",
      "odd 1\n",
      "even 28\n",
      "odd 1\n",
      "even 30\n",
      "odd 1\n",
      "even 32\n",
      "odd 1\n",
      "even 34\n",
      "odd 1\n",
      "even 36\n",
      "odd 1\n",
      "even 38\n",
      "odd 1\n",
      "even 40\n",
      "odd 1\n",
      "even 42\n",
      "odd 1\n",
      "even 44\n",
      "odd 1\n",
      "even 46\n",
      "odd 1\n",
      "even 48\n",
      "odd 1\n",
      "even 50\n",
      "odd 1\n",
      "even 52\n",
      "odd 1\n",
      "even 54\n",
      "odd 1\n",
      "even 56\n",
      "odd 1\n",
      "even 58\n",
      "odd 1\n",
      "even 60\n",
      "odd 1\n",
      "even 62\n",
      "odd 1\n",
      "even 64\n",
      "odd 1\n",
      "even 66\n",
      "odd 1\n",
      "even 68\n",
      "odd 1\n",
      "even 70\n",
      "odd 1\n",
      "even 72\n",
      "odd 1\n",
      "even 74\n",
      "odd 1\n",
      "even 76\n",
      "odd 1\n",
      "even 78\n",
      "odd 1\n",
      "even 80\n",
      "odd 1\n",
      "even 82\n",
      "odd 1\n",
      "even 84\n",
      "odd 1\n",
      "even 86\n",
      "odd 1\n",
      "even 88\n",
      "odd 1\n",
      "even 90\n",
      "odd 1\n",
      "even 92\n",
      "odd 1\n",
      "even 94\n",
      "odd 1\n",
      "even 96\n",
      "odd 1\n",
      "even 98\n",
      "odd 1\n",
      "even 100\n"
     ]
    }
   ],
   "source": [
    "for i in range (1,101):\n",
    "    if i % 2 ==0:\n",
    "        print('even', i )\n",
    "    else:\n",
    "        print ('odd',1)    "
   ]
  },
  {
   "cell_type": "markdown",
   "metadata": {},
   "source": [
    "2. wap to print the sum of all even numbers from 2 to 101"
   ]
  },
  {
   "cell_type": "code",
   "execution_count": 15,
   "metadata": {},
   "outputs": [
    {
     "name": "stdout",
     "output_type": "stream",
     "text": [
      "total of all even numbers=> 50\n"
     ]
    }
   ],
   "source": [
    "total = 0 \n",
    "for i in range (2,101):\n",
    "     if i % 2 == 0:\n",
    "         total +=1\n",
    "print (\"total of all even numbers=>\",total)       "
   ]
  },
  {
   "cell_type": "markdown",
   "metadata": {},
   "source": [
    "3.wap to print the average of all odd numbers from 1 to 100"
   ]
  },
  {
   "cell_type": "code",
   "execution_count": 4,
   "metadata": {},
   "outputs": [
    {
     "name": "stdout",
     "output_type": "stream",
     "text": [
      "1 2 3 4 5\n",
      "2 4 6 8 10\n",
      "3 6 9 12 15\n",
      "4 8 12 16 20\n",
      "5 10 15 20 25\n"
     ]
    }
   ],
   "source": [
    "# best implementation -> dynamic rows\n",
    "for i in range(1,6):\n",
    "    print(1*i,2*i,3*i,4*i,5*i,sep=' ')"
   ]
  },
  {
   "cell_type": "code",
   "execution_count": 2,
   "metadata": {},
   "outputs": [
    {
     "name": "stdout",
     "output_type": "stream",
     "text": [
      "1 2 3 4 5\n",
      "2 4 6 8 10\n",
      "3 6 9 12 15\n",
      "4 8 12 16 20\n",
      "5 10 15 20 25\n"
     ]
    }
   ],
   "source": [
    "print(1,2,3,4,5,sep=' ')\n",
    "print(2,4,6,8,10,sep=' ')\n",
    "print(3,6,9,12,15,sep=' ')\n",
    "print(4,8,12,16,20,sep=' ')\n",
    "print(5,10,15,20,25,sep=' ')"
   ]
  },
  {
   "cell_type": "code",
   "execution_count": 5,
   "metadata": {},
   "outputs": [
    {
     "name": "stdout",
     "output_type": "stream",
     "text": [
      "1 1\n",
      "1 2\n",
      "1 3\n",
      "1 4\n",
      "1 5\n",
      "2 1\n",
      "2 2\n",
      "2 3\n",
      "2 4\n",
      "2 5\n",
      "3 1\n",
      "3 2\n",
      "3 3\n",
      "3 4\n",
      "3 5\n",
      "4 1\n",
      "4 2\n",
      "4 3\n",
      "4 4\n",
      "4 5\n",
      "5 1\n",
      "5 2\n",
      "5 3\n",
      "5 4\n",
      "5 5\n"
     ]
    }
   ],
   "source": [
    "# best implementation -> dynamic row and col\n",
    "for row in range (1,6):\n",
    "    for col in range(1,6):\n",
    "        print(row,col)"
   ]
  },
  {
   "cell_type": "code",
   "execution_count": 9,
   "metadata": {},
   "outputs": [
    {
     "name": "stdout",
     "output_type": "stream",
     "text": [
      "1\n",
      "2\n",
      "3\n",
      "4\n",
      "5\n",
      "2\n",
      "4\n",
      "6\n",
      "8\n",
      "10\n",
      "3\n",
      "6\n",
      "9\n",
      "12\n",
      "15\n",
      "4\n",
      "8\n",
      "12\n",
      "16\n",
      "20\n",
      "5\n",
      "10\n",
      "15\n",
      "20\n",
      "25\n"
     ]
    }
   ],
   "source": [
    "# best implementation -> dynamic row and col\n",
    "for row in range(1,6):\n",
    "    for col in range(1,6):\n",
    "        print(row*col)\n"
   ]
  },
  {
   "cell_type": "code",
   "execution_count": 7,
   "metadata": {},
   "outputs": [
    {
     "name": "stdout",
     "output_type": "stream",
     "text": [
      "1,2,3,4,5,2,4,6,8,10,3,6,9,12,15,4,8,12,16,20,5,10,15,20,25,"
     ]
    }
   ],
   "source": [
    "# best implementation -> dynamic row and col \n",
    "for row in range (1,6):\n",
    "    for col in range(1,6):\n",
    "        print(row * col,end=',')"
   ]
  },
  {
   "cell_type": "code",
   "execution_count": 8,
   "metadata": {},
   "outputs": [
    {
     "name": "stdout",
     "output_type": "stream",
     "text": [
      "1,2,3,4,5,\n",
      "2,4,6,8,10,\n",
      "3,6,9,12,15,\n",
      "4,8,12,16,20,\n",
      "5,10,15,20,25,\n"
     ]
    }
   ],
   "source": [
    "for row in range (1,6):\n",
    "    for col in range(1,6):\n",
    "        print(row * col,end=',')\n",
    "    print()    "
   ]
  },
  {
   "cell_type": "markdown",
   "metadata": {},
   "source": [
    "# while loop"
   ]
  },
  {
   "cell_type": "code",
   "execution_count": 8,
   "metadata": {},
   "outputs": [
    {
     "name": "stdout",
     "output_type": "stream",
     "text": [
      "run\n",
      "run\n",
      "run\n",
      "run\n",
      "stop\n"
     ]
    }
   ],
   "source": [
    "x = 1\n",
    "while x < 5:\n",
    "    print('run')\n",
    "    x += 1\n",
    "print('stop')    "
   ]
  },
  {
   "cell_type": "code",
   "execution_count": 11,
   "metadata": {},
   "outputs": [
    {
     "name": "stdout",
     "output_type": "stream",
     "text": [
      "The sum is 55\n"
     ]
    }
   ],
   "source": [
    "# a complex program \n",
    "n = 10\n",
    "\n",
    "# initialize sum and counter\n",
    "sum = 0\n",
    "i = 1\n",
    "while i <=n:\n",
    "    sum = sum + i \n",
    "    i = i+1   # update counter\n",
    "\n",
    "# print the sum\n",
    "print(\"The sum is\",sum)    "
   ]
  },
  {
   "cell_type": "code",
   "execution_count": 12,
   "metadata": {},
   "outputs": [
    {
     "data": {
      "text/plain": [
       "'twinkle* 2 little star'"
      ]
     },
     "execution_count": 12,
     "metadata": {},
     "output_type": "execute_result"
    }
   ],
   "source": [
    "input()"
   ]
  },
  {
   "cell_type": "code",
   "execution_count": 23,
   "metadata": {},
   "outputs": [
    {
     "name": "stdout",
     "output_type": "stream",
     "text": [
      "total chars in poem is 15\n"
     ]
    }
   ],
   "source": [
    "poem='twinkle twinkle'\n",
    "while input('do u want to write another link?[y/n]')== 'y':\n",
    "    line = input(\">>>\")\n",
    "    poem += line\n",
    "chars = len(poem)  \n",
    "print(f\"total chars in poem is {chars}\")  "
   ]
  },
  {
   "cell_type": "code",
   "execution_count": 21,
   "metadata": {},
   "outputs": [
    {
     "data": {
      "text/plain": [
       "'twinkle twinkle'"
      ]
     },
     "execution_count": 21,
     "metadata": {},
     "output_type": "execute_result"
    }
   ],
   "source": [
    "poem"
   ]
  },
  {
   "cell_type": "markdown",
   "metadata": {},
   "source": [
    "# break and continue"
   ]
  },
  {
   "cell_type": "markdown",
   "metadata": {},
   "source": [
    "contiune"
   ]
  },
  {
   "cell_type": "code",
   "execution_count": 24,
   "metadata": {},
   "outputs": [
    {
     "name": "stdout",
     "output_type": "stream",
     "text": [
      "55\n"
     ]
    }
   ],
   "source": [
    "x = [1,2,'',3,4,5,'',6,7,'',8,9,10]\n",
    "total = 0\n",
    "for i in x:\n",
    "    if isinstance(i,str):\n",
    "        continue\n",
    "    total += i\n",
    "print(total)"
   ]
  }
 ],
 "metadata": {
  "interpreter": {
   "hash": "b4dc0bc5f3fa17f6008eddb2fa77e8f6b05318d84f3e3cf003699ea63add3661"
  },
  "kernelspec": {
   "display_name": "Python 3.9.5 64-bit ('base': conda)",
   "language": "python",
   "name": "python3"
  },
  "language_info": {
   "codemirror_mode": {
    "name": "ipython",
    "version": 3
   },
   "file_extension": ".py",
   "mimetype": "text/x-python",
   "name": "python",
   "nbconvert_exporter": "python",
   "pygments_lexer": "ipython3",
   "version": "3.9.5"
  },
  "orig_nbformat": 4
 },
 "nbformat": 4,
 "nbformat_minor": 2
}
