{
 "cells": [
  {
   "cell_type": "markdown",
   "metadata": {},
   "source": [
    "## what to learn\n",
    "   - comprehension\n",
    "   - lamda,map and filter"
   ]
  },
  {
   "cell_type": "markdown",
   "metadata": {},
   "source": [
    "If you are doing  program where  you need to get a list(sequence)of data from and exiting data by perfroming some operation esiting data, then you can use the concept of comprehension or map/filter to make your code smaller and faster"
   ]
  },
  {
   "cell_type": "code",
   "execution_count": 4,
   "metadata": {},
   "outputs": [
    {
     "name": "stdout",
     "output_type": "stream",
     "text": [
      "[6, 7, 8, 9, 10, 11, 12]\n"
     ]
    }
   ],
   "source": [
    "x = [1,2,3,4,5,6,7]\n",
    "x5 = [] # list empty\n",
    "for i in x:\n",
    "    o = i + 5\n",
    "    x5.append(o)\n",
    "print(x5)    "
   ]
  },
  {
   "cell_type": "markdown",
   "metadata": {},
   "source": [
    "## comperhension syntax\n",
    "- simple\n",
    "\n",
    "newlist = [operation loop]\n",
    "\n",
    "- condintion    based\n",
    "\n",
    "newlist = [operation loop condition]"
   ]
  },
  {
   "cell_type": "code",
   "execution_count": 5,
   "metadata": {},
   "outputs": [
    {
     "name": "stdout",
     "output_type": "stream",
     "text": [
      "[6, 7, 8, 9, 10, 11, 12]\n"
     ]
    }
   ],
   "source": [
    "x5 = [i +5 for i in x]\n",
    "print(x5)\n"
   ]
  },
  {
   "cell_type": "code",
   "execution_count": 6,
   "metadata": {},
   "outputs": [
    {
     "name": "stdout",
     "output_type": "stream",
     "text": [
      "[1, 4, 9, 16, 25, 36, 49]\n"
     ]
    }
   ],
   "source": [
    "xsqr = [i ** 2 for i in x]\n",
    "print(xsqr)"
   ]
  },
  {
   "cell_type": "code",
   "execution_count": 10,
   "metadata": {},
   "outputs": [
    {
     "name": "stdout",
     "output_type": "stream",
     "text": [
      "[4, 16, 36, 64, 100]\n"
     ]
    }
   ],
   "source": [
    "# normal version\n",
    "x = [1,2,3,4,5,6,7,8,9,10]\n",
    "xevensqr = []\n",
    "for i in x:\n",
    "    if i % 2 == 0:\n",
    "        xevensqr.append(i**2)\n",
    "print(xevensqr)        "
   ]
  },
  {
   "cell_type": "code",
   "execution_count": 12,
   "metadata": {},
   "outputs": [
    {
     "name": "stdout",
     "output_type": "stream",
     "text": [
      "[8, 64, 216, 512, 1000]\n"
     ]
    }
   ],
   "source": [
    "# pythonic version\n",
    "xevncube = [i**3 for i in x if i%2==0]\n",
    "print(xevncube)"
   ]
  },
  {
   "cell_type": "code",
   "execution_count": 15,
   "metadata": {},
   "outputs": [
    {
     "name": "stdout",
     "output_type": "stream",
     "text": [
      "[-9, -7, -5, -3, -1]\n"
     ]
    }
   ],
   "source": [
    "xoddspr = [ i-10 for i in x if i%2!=0]\n",
    "print(xoddspr)"
   ]
  },
  {
   "cell_type": "code",
   "execution_count": 24,
   "metadata": {},
   "outputs": [
    {
     "name": "stdout",
     "output_type": "stream",
     "text": [
      "['Mason', 'Grey', 'Lawson', 'Maxmilion']\n"
     ]
    }
   ],
   "source": [
    "names = ['Alex Mason',' Adam Grey','Dana Lawson','Wax Maxmilion']\n",
    "surnames = []\n",
    "for n in names:\n",
    "    sn = n.split()[-1] # get the last word \n",
    "    surnames.append(sn)\n",
    "print(surnames)    "
   ]
  },
  {
   "cell_type": "code",
   "execution_count": 25,
   "metadata": {},
   "outputs": [],
   "source": [
    "surname = [n.split()[-1] for n in names]"
   ]
  },
  {
   "cell_type": "markdown",
   "metadata": {},
   "source": [
    "### TASK \n",
    "write a comprehension program that will return all the employees with 'a' in their names from an exiting listy of 25 employees"
   ]
  },
  {
   "cell_type": "code",
   "execution_count": 33,
   "metadata": {},
   "outputs": [
    {
     "data": {
      "text/plain": [
       "7"
      ]
     },
     "execution_count": 33,
     "metadata": {},
     "output_type": "execute_result"
    }
   ],
   "source": [
    "name = ['shweta','reema','kavita','savita','maya','anjali','mamta']\n",
    "len(name)"
   ]
  }
 ],
 "metadata": {
  "interpreter": {
   "hash": "b4dc0bc5f3fa17f6008eddb2fa77e8f6b05318d84f3e3cf003699ea63add3661"
  },
  "kernelspec": {
   "display_name": "Python 3.9.5 ('base')",
   "language": "python",
   "name": "python3"
  },
  "language_info": {
   "codemirror_mode": {
    "name": "ipython",
    "version": 3
   },
   "file_extension": ".py",
   "mimetype": "text/x-python",
   "name": "python",
   "nbconvert_exporter": "python",
   "pygments_lexer": "ipython3",
   "version": "3.9.5"
  },
  "orig_nbformat": 4
 },
 "nbformat": 4,
 "nbformat_minor": 2
}
