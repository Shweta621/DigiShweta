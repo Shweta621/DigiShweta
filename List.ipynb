{
 "cells": [
  {
   "cell_type": "markdown",
   "metadata": {},
   "source": [
    "# list -\n",
    "- list is mutable(item add, remove)\n",
    "- list is heterogenous(mixed data can be stored)\n",
    "- list can have duplicate values\n",
    "- list is also index(item have indexes and can be sliced)\n",
    "- list uses '[ ]' brackets with values inside it seperated with comes \n",
    "\n",
    "\n",
    "### what to learn\n",
    "- #### creting a list✔\n",
    "- #### indexing n slicing✔\n",
    "- #### traversal(looping)✔\n",
    "- #### funcytion(11)✔\n",
    "- #### comprehension\n",
    "- #### lambda, map and filter"
   ]
  },
  {
   "cell_type": "code",
   "execution_count": 13,
   "metadata": {},
   "outputs": [],
   "source": [
    "# List of strings\n",
    "names = [\"Kaladin\",\"Adolin\",'Dalinar','wit','shallan','Navani']\n",
    "# list of numbers\n",
    "factors = [\"1, 2, 3, 5, 15, 100\"]\n",
    "# mixed data list\n",
    "info = ['Ravi',90,102,53,85,82,\"B\",False,5.647]\n",
    "# nested list\n",
    "c2d = [\"[1,2,3],[5,3,6,4][5,4]\"]\n",
    "\n",
    "# list from function\n",
    "fact = \"icecube sits in its own blood\"\n",
    "words = fact.split()"
   ]
  },
  {
   "cell_type": "code",
   "execution_count": 5,
   "metadata": {},
   "outputs": [
    {
     "name": "stdout",
     "output_type": "stream",
     "text": [
      "[1, 1, 1, 1, 1, 1, 1, 1, 1, 1]\n"
     ]
    }
   ],
   "source": [
    "# quick list hack with some values\n",
    "x = [1]*10\n",
    "print(x)"
   ]
  },
  {
   "cell_type": "code",
   "execution_count": 7,
   "metadata": {},
   "outputs": [
    {
     "name": "stdout",
     "output_type": "stream",
     "text": [
      "[10, '', 9, 100]\n"
     ]
    }
   ],
   "source": [
    "# list from variables\n",
    "a= 10\n",
    "b = ''\n",
    "c = 9\n",
    "x = 100\n",
    "l = [a,b,c,x]\n",
    "print(l)"
   ]
  },
  {
   "cell_type": "code",
   "execution_count": 10,
   "metadata": {},
   "outputs": [],
   "source": [
    "kharche = [] # empty list"
   ]
  },
  {
   "cell_type": "code",
   "execution_count": 11,
   "metadata": {},
   "outputs": [
    {
     "name": "stdout",
     "output_type": "stream",
     "text": [
      "[100]\n",
      "[100, 200]\n"
     ]
    }
   ],
   "source": [
    "kharche.append(100)\n",
    "print(kharche)\n",
    "kharche.append(200)\n",
    "print(kharche)"
   ]
  },
  {
   "cell_type": "code",
   "execution_count": 12,
   "metadata": {},
   "outputs": [
    {
     "name": "stdout",
     "output_type": "stream",
     "text": [
      "['roti', 'sbji', 'apple']\n"
     ]
    }
   ],
   "source": [
    "fav_foods = []\n",
    "for i in range(3):\n",
    "    food = input(\"enter name of ur fav food=>\")\n",
    "    fav_foods.append(food)\n",
    "print(fav_foods) \n",
    "   "
   ]
  },
  {
   "cell_type": "code",
   "execution_count": 15,
   "metadata": {},
   "outputs": [
    {
     "name": "stdout",
     "output_type": "stream",
     "text": [
      "[1, 2, 3, 4, 5, 6, 7, 8, 9, 10, 11, 12, 13, 14, 15, 16, 17, 18, 19, 20, 21, 22, 23, 24, 25, 26, 27, 28, 29, 30, 31, 32, 33, 34, 35, 36, 37, 38, 39, 40, 41, 42, 43, 44, 45, 46, 47, 48, 49, 50, 51, 52, 53, 54, 55, 56, 57, 58, 59, 60, 61, 62, 63, 64, 65, 66, 67, 68, 69, 70, 71, 72, 73, 74, 75, 76, 77, 78, 79, 80, 81, 82, 83, 84, 85, 86, 87, 88, 89, 90, 91, 92, 93, 94, 95, 96, 97, 98, 99, 100]\n"
     ]
    }
   ],
   "source": [
    "nums = []\n",
    "for i in range (1,101):\n",
    "    nums.append(i)\n",
    "print(nums)    "
   ]
  },
  {
   "cell_type": "code",
   "execution_count": 16,
   "metadata": {},
   "outputs": [
    {
     "data": {
      "text/plain": [
       "'Dalinar'"
      ]
     },
     "execution_count": 16,
     "metadata": {},
     "output_type": "execute_result"
    }
   ],
   "source": [
    "names[2]"
   ]
  },
  {
   "cell_type": "code",
   "execution_count": 17,
   "metadata": {},
   "outputs": [
    {
     "data": {
      "text/plain": [
       "'own'"
      ]
     },
     "execution_count": 17,
     "metadata": {},
     "output_type": "execute_result"
    }
   ],
   "source": [
    "words[-2]"
   ]
  },
  {
   "cell_type": "markdown",
   "metadata": {},
   "source": [
    "### functions\n",
    "- adding items\n",
    "     - append\n",
    "     - insert\n",
    "     - extend  \n",
    "- delete items\n",
    "   -   remove\n",
    "   -   pop\n",
    "   -   clear\n",
    "- utility\n",
    "  -    revese\n",
    "  -    sort \n",
    "  -    count\n",
    "  -    index \n",
    "  -    copy   "
   ]
  },
  {
   "cell_type": "code",
   "execution_count": 2,
   "metadata": {},
   "outputs": [
    {
     "data": {
      "text/plain": [
       "['apple', 'banana', 'cherry', 'guava']"
      ]
     },
     "execution_count": 2,
     "metadata": {},
     "output_type": "execute_result"
    }
   ],
   "source": [
    "fruits = []\n",
    "fruits.append(\"apple\")\n",
    "fruits.append(\"banana\")\n",
    "fruits.append(\"cherry\")\n",
    "fruits.append(\"guava\")\n",
    "fruits"
   ]
  },
  {
   "cell_type": "code",
   "execution_count": 3,
   "metadata": {},
   "outputs": [
    {
     "data": {
      "text/plain": [
       "['apple', 'banana', 'cherry', 'fig', 'guava']"
      ]
     },
     "execution_count": 3,
     "metadata": {},
     "output_type": "execute_result"
    }
   ],
   "source": [
    "fruits.insert(-1,'fig')\n",
    "fruits"
   ]
  },
  {
   "cell_type": "code",
   "execution_count": 4,
   "metadata": {},
   "outputs": [
    {
     "data": {
      "text/plain": [
       "['apple', 'banana', 'cherry', 'dragonfruit', 'fig', 'guava']"
      ]
     },
     "execution_count": 4,
     "metadata": {},
     "output_type": "execute_result"
    }
   ],
   "source": [
    "fruits.insert(-2,'dragonfruit')\n",
    "fruits"
   ]
  },
  {
   "cell_type": "code",
   "execution_count": 5,
   "metadata": {},
   "outputs": [
    {
     "data": {
      "text/plain": [
       "['apple', 'avocado', 'banana', 'cherry', 'dragonfruit', 'fig', 'guava']"
      ]
     },
     "execution_count": 5,
     "metadata": {},
     "output_type": "execute_result"
    }
   ],
   "source": [
    "fruits.insert(1,'avocado')\n",
    "fruits"
   ]
  },
  {
   "cell_type": "code",
   "execution_count": 7,
   "metadata": {},
   "outputs": [
    {
     "data": {
      "text/plain": [
       "['apple',\n",
       " 'avocado',\n",
       " 'banana',\n",
       " 'cherry',\n",
       " 'dragonfruit',\n",
       " 'fig',\n",
       " 'guava',\n",
       " 'rootten apple',\n",
       " 'rootten apple']"
      ]
     },
     "execution_count": 7,
     "metadata": {},
     "output_type": "execute_result"
    }
   ],
   "source": [
    "fruits.insert(100,'rootten apple')\n",
    "fruits"
   ]
  },
  {
   "cell_type": "code",
   "execution_count": 9,
   "metadata": {},
   "outputs": [
    {
     "data": {
      "text/plain": [
       "['almods', 'cashew', 'walnut']"
      ]
     },
     "execution_count": 9,
     "metadata": {},
     "output_type": "execute_result"
    }
   ],
   "source": [
    "dry_fruits = ['almods','cashew','walnut']\n",
    "dry_fruits"
   ]
  },
  {
   "cell_type": "code",
   "execution_count": 10,
   "metadata": {},
   "outputs": [
    {
     "data": {
      "text/plain": [
       "['apple',\n",
       " 'avocado',\n",
       " 'banana',\n",
       " 'cherry',\n",
       " 'dragonfruit',\n",
       " 'fig',\n",
       " 'guava',\n",
       " 'rootten apple',\n",
       " 'rootten apple',\n",
       " 'almods',\n",
       " 'cashew',\n",
       " 'walnut']"
      ]
     },
     "execution_count": 10,
     "metadata": {},
     "output_type": "execute_result"
    }
   ],
   "source": [
    "fruits.extend(dry_fruits)\n",
    "fruits"
   ]
  },
  {
   "cell_type": "code",
   "execution_count": 11,
   "metadata": {},
   "outputs": [
    {
     "data": {
      "text/plain": [
       "['apple',\n",
       " 'avocado',\n",
       " 'banana',\n",
       " 'cherry',\n",
       " 'dragonfruit',\n",
       " 'fig',\n",
       " 'guava',\n",
       " 'rootten apple',\n",
       " 'rootten apple',\n",
       " 'almods',\n",
       " 'cashew',\n",
       " 'walnut']"
      ]
     },
     "execution_count": 11,
     "metadata": {},
     "output_type": "execute_result"
    }
   ],
   "source": [
    "fruits"
   ]
  },
  {
   "cell_type": "code",
   "execution_count": 12,
   "metadata": {},
   "outputs": [
    {
     "data": {
      "text/plain": [
       "12"
      ]
     },
     "execution_count": 12,
     "metadata": {},
     "output_type": "execute_result"
    }
   ],
   "source": [
    "len(fruits)"
   ]
  },
  {
   "cell_type": "code",
   "execution_count": 13,
   "metadata": {},
   "outputs": [
    {
     "name": "stdout",
     "output_type": "stream",
     "text": [
      "no rotten apple found\n"
     ]
    }
   ],
   "source": [
    "if 'rooten apple' in fruits:\n",
    "    fruits.remove('rotten apple')\n",
    "else:\n",
    "    print('no rotten apple found')\n"
   ]
  },
  {
   "cell_type": "code",
   "execution_count": 14,
   "metadata": {},
   "outputs": [],
   "source": [
    "if 'papaya' in fruits:\n",
    "    fruits.remove('papaya')"
   ]
  },
  {
   "cell_type": "markdown",
   "metadata": {},
   "source": [
    "pop can be used in 2 way\n",
    "  - list.pop()   =>remove the last value in the list and gives us that value\n",
    "  - list.pop(idx) =>remove the value from idx if idx is valid and gives the value"
   ]
  },
  {
   "cell_type": "markdown",
   "metadata": {},
   "source": [
    "#### sb indexing"
   ]
  },
  {
   "cell_type": "code",
   "execution_count": 15,
   "metadata": {},
   "outputs": [
    {
     "data": {
      "text/plain": [
       "[1, 2, 3, [1, 2, 3, 4]]"
      ]
     },
     "execution_count": 15,
     "metadata": {},
     "output_type": "execute_result"
    }
   ],
   "source": [
    "x = [1,2,3,[1,2,3,4]]\n",
    "x"
   ]
  },
  {
   "cell_type": "code",
   "execution_count": 16,
   "metadata": {},
   "outputs": [],
   "source": [
    "if 2 in x[3]:\n",
    "   x[3].remove(2)"
   ]
  },
  {
   "cell_type": "code",
   "execution_count": 3,
   "metadata": {},
   "outputs": [],
   "source": [
    "Movies = [\n",
    " 'Ghostbusters: Afterline',\n",
    " 'Spider-Man: No way home',\n",
    " \"Shang-chi\",\n",
    " 'Eternals',\n",
    " 'The Last Duel',\n",
    " 'Venom: Let There be Carnage',\n",
    " 'Nobody'\n",
    "]"
   ]
  },
  {
   "cell_type": "code",
   "execution_count": 4,
   "metadata": {},
   "outputs": [
    {
     "data": {
      "text/plain": [
       "7"
      ]
     },
     "execution_count": 4,
     "metadata": {},
     "output_type": "execute_result"
    }
   ],
   "source": [
    "len(Movies)"
   ]
  },
  {
   "cell_type": "code",
   "execution_count": 5,
   "metadata": {},
   "outputs": [
    {
     "name": "stdout",
     "output_type": "stream",
     "text": [
      "normal ['Ghostbusters: Afterline', 'Spider-Man: No way home', 'Shang-chi', 'Eternals', 'The Last Duel', 'Venom: Let There be Carnage', 'Nobody']\n",
      "reverse ['Nobody', 'Venom: Let There be Carnage', 'The Last Duel', 'Eternals', 'Shang-chi', 'Spider-Man: No way home', 'Ghostbusters: Afterline']\n"
     ]
    }
   ],
   "source": [
    "print(\"normal\",Movies)\n",
    "Movies.reverse()\n",
    "print(\"reverse\",Movies)"
   ]
  },
  {
   "cell_type": "code",
   "execution_count": 12,
   "metadata": {},
   "outputs": [
    {
     "name": "stdout",
     "output_type": "stream",
     "text": [
      "normal\n",
      " ['Eternals', 'Ghostbusters: Afterline', 'Nobody', 'Shang-chi', 'Spider-Man: No way home', 'The Last Duel', 'Venom: Let There be Carnage']\n",
      "reverse\n",
      " ['Venom: Let There be Carnage', 'The Last Duel', 'Spider-Man: No way home', 'Shang-chi', 'Nobody', 'Ghostbusters: Afterline', 'Eternals']\n"
     ]
    }
   ],
   "source": [
    "print(\"normal\\n\",Movies)\n",
    "Movies.reverse()\n",
    "print(\"reverse\\n\",Movies)"
   ]
  },
  {
   "cell_type": "code",
   "execution_count": 13,
   "metadata": {},
   "outputs": [
    {
     "name": "stdout",
     "output_type": "stream",
     "text": [
      "['Eternals', 'Ghostbusters: Afterline', 'Nobody', 'Shang-chi', 'Spider-Man: No way home', 'The Last Duel', 'Venom: Let There be Carnage']\n"
     ]
    }
   ],
   "source": [
    "Movies.sort()\n",
    "print(Movies)"
   ]
  },
  {
   "cell_type": "code",
   "execution_count": 15,
   "metadata": {},
   "outputs": [
    {
     "name": "stdout",
     "output_type": "stream",
     "text": [
      "['Venom: Let There be Carnage', 'The Last Duel', 'Spider-Man: No way home', 'Shang-chi', 'Nobody', 'Ghostbusters: Afterline', 'Eternals']\n"
     ]
    }
   ],
   "source": [
    "Movies.sort(reverse=True)\n",
    "print(Movies)\n"
   ]
  },
  {
   "cell_type": "code",
   "execution_count": 22,
   "metadata": {},
   "outputs": [
    {
     "name": "stdout",
     "output_type": "stream",
     "text": [
      "['Venom: Let There be Carnage', 'The Last Duel', 'Spider-Man: No way home', 'Shang-chi', 'Nobody', 'Ghostbusters: Afterline', 'Eternals']\n"
     ]
    }
   ],
   "source": [
    "dub_mov = Movies.copy()\n",
    "print(dub_mov)\n",
    "\n"
   ]
  },
  {
   "cell_type": "code",
   "execution_count": 24,
   "metadata": {},
   "outputs": [
    {
     "data": {
      "text/plain": [
       "3"
      ]
     },
     "execution_count": 24,
     "metadata": {},
     "output_type": "execute_result"
    }
   ],
   "source": [
    "Movies.index('Shang-chi')"
   ]
  },
  {
   "cell_type": "code",
   "execution_count": 26,
   "metadata": {},
   "outputs": [
    {
     "name": "stdout",
     "output_type": "stream",
     "text": [
      "4\n"
     ]
    }
   ],
   "source": [
    "if 'Nobody' in Movies:\n",
    "    print(Movies.index('Nobody'))"
   ]
  },
  {
   "cell_type": "code",
   "execution_count": 7,
   "metadata": {},
   "outputs": [],
   "source": [
    "x = [1,2,3,5,6,7,3,3,3,2,2,3,3,3,3,2,2,5,3,5,5,6,8,8,5,4,5,4,3,3,3,4,5,6,8,9,0,6,4,2,1,2,3,4,5,6,7,8]"
   ]
  },
  {
   "cell_type": "code",
   "execution_count": 8,
   "metadata": {},
   "outputs": [
    {
     "data": {
      "text/plain": [
       "2"
      ]
     },
     "execution_count": 8,
     "metadata": {},
     "output_type": "execute_result"
    }
   ],
   "source": [
    "x.count(1)"
   ]
  },
  {
   "cell_type": "code",
   "execution_count": 9,
   "metadata": {},
   "outputs": [
    {
     "data": {
      "text/plain": [
       "7"
      ]
     },
     "execution_count": 9,
     "metadata": {},
     "output_type": "execute_result"
    }
   ],
   "source": [
    "x.count(2)"
   ]
  },
  {
   "cell_type": "code",
   "execution_count": 10,
   "metadata": {},
   "outputs": [
    {
     "data": {
      "text/plain": [
       "13"
      ]
     },
     "execution_count": 10,
     "metadata": {},
     "output_type": "execute_result"
    }
   ],
   "source": [
    "x.count(3)"
   ]
  },
  {
   "cell_type": "code",
   "execution_count": 11,
   "metadata": {},
   "outputs": [
    {
     "data": {
      "text/plain": [
       "5"
      ]
     },
     "execution_count": 11,
     "metadata": {},
     "output_type": "execute_result"
    }
   ],
   "source": [
    "x.count(4)"
   ]
  },
  {
   "cell_type": "code",
   "execution_count": 12,
   "metadata": {},
   "outputs": [
    {
     "data": {
      "text/plain": [
       "8"
      ]
     },
     "execution_count": 12,
     "metadata": {},
     "output_type": "execute_result"
    }
   ],
   "source": [
    "x.count(5)"
   ]
  },
  {
   "cell_type": "markdown",
   "metadata": {},
   "source": [
    "##### wap a program to enter 15 numbers in list, then print the sum,min,max,mean of that list. "
   ]
  },
  {
   "cell_type": "code",
   "execution_count": 13,
   "metadata": {},
   "outputs": [
    {
     "data": {
      "text/plain": [
       "['1,2,3']"
      ]
     },
     "execution_count": 13,
     "metadata": {},
     "output_type": "execute_result"
    }
   ],
   "source": [
    "input('something:').split()"
   ]
  },
  {
   "cell_type": "code",
   "execution_count": 16,
   "metadata": {},
   "outputs": [],
   "source": [
    "nums = []\n",
    "for i in range(5,15):12"
   ]
  },
  {
   "cell_type": "code",
   "execution_count": 59,
   "metadata": {},
   "outputs": [],
   "source": [
    "nums = []\n",
    "for i in range(15):\n",
    "    val = int (input('enter a number:'))\n",
    "    nums.append(val)\n",
    "print(\"sum of values =\", sum(nums))\n",
    "print(\"min value =\",min(nums))\n",
    "print(\"max value =\",max(nums))\n",
    "print(\"mean of value =\",sum(nums))    "
   ]
  }
 ],
 "metadata": {
  "interpreter": {
   "hash": "b4dc0bc5f3fa17f6008eddb2fa77e8f6b05318d84f3e3cf003699ea63add3661"
  },
  "kernelspec": {
   "display_name": "Python 3.9.5 ('base')",
   "language": "python",
   "name": "python3"
  },
  "language_info": {
   "codemirror_mode": {
    "name": "ipython",
    "version": 3
   },
   "file_extension": ".py",
   "mimetype": "text/x-python",
   "name": "python",
   "nbconvert_exporter": "python",
   "pygments_lexer": "ipython3",
   "version": "3.9.5"
  },
  "orig_nbformat": 4
 },
 "nbformat": 4,
 "nbformat_minor": 2
}
